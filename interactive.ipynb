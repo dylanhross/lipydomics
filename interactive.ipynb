{
 "cells": [
  {
   "cell_type": "code",
   "execution_count": 1,
   "metadata": {},
   "outputs": [],
   "source": [
    "from lipydomics import interactive"
   ]
  },
  {
   "cell_type": "code",
   "execution_count": null,
   "metadata": {},
   "outputs": [
    {
     "name": "stdout",
     "output_type": "stream",
     "text": [
      "\n",
      "What would you like to do?\n",
      "\t1. Make a new Dataset\n",
      "\t2. Load a previous Dataset\n",
      "> 1\n",
      "Please enter the path to the csv file you want to work with.\n",
      "> example_raw.csv\n",
      "What ESI mode was used for this data? (pos/neg)\n",
      "> pos\n",
      "! INFO: Loaded a new Dataset from .csv file: \"example_raw.csv\"\n",
      "Would you like to automatically assign groups from headers? (y/N)\n"
     ]
    }
   ],
   "source": [
    "interactive.main()"
   ]
  },
  {
   "cell_type": "code",
   "execution_count": null,
   "metadata": {},
   "outputs": [],
   "source": []
  },
  {
   "cell_type": "code",
   "execution_count": null,
   "metadata": {},
   "outputs": [],
   "source": []
  }
 ],
 "metadata": {
  "kernelspec": {
   "display_name": "Python 3",
   "language": "python",
   "name": "python3"
  },
  "language_info": {
   "codemirror_mode": {
    "name": "ipython",
    "version": 3
   },
   "file_extension": ".py",
   "mimetype": "text/x-python",
   "name": "python",
   "nbconvert_exporter": "python",
   "pygments_lexer": "ipython3",
   "version": "3.7.0"
  }
 },
 "nbformat": 4,
 "nbformat_minor": 2
}
